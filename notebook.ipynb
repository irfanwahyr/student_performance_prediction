{
    "cells": [
        {
            "cell_type": "markdown",
            "metadata": {},
            "source": [
                "# Proyek Akhir: Menyelesaikan Permasalahan Perusahaan Edutech"
            ]
        },
        {
            "cell_type": "markdown",
            "metadata": {},
            "source": [
                "- Nama: Irfan Wahyu Ramadhani\n",
                "- Email: iramadhani679@gmail.com\n",
                "- Id Dicoding: "
            ]
        },
        {
            "cell_type": "markdown",
            "metadata": {},
            "source": [
                "## Persiapan"
            ]
        },
        {
            "cell_type": "markdown",
            "metadata": {},
            "source": [
                "### Menyiapkan library yang dibutuhkan"
            ]
        },
        {
            "cell_type": "code",
            "execution_count": 1,
            "metadata": {},
            "outputs": [],
            "source": [
                "import pandas as pd\n",
                "import matplotlib.pyplot as plt\n",
                "import seaborn as sns\n",
                "from sqlalchemy import create_engine\n",
                "import joblib\n",
                "from sklearn.cluster import KMeans\n",
                "from sklearn.metrics import silhouette_score\n",
                "from sklearn.cluster import KMeans\n",
                "from sklearn.preprocessing import StandardScaler"
            ]
        },
        {
            "cell_type": "markdown",
            "metadata": {},
            "source": [
                "### Menyiapkan data yang akan diguankan"
            ]
        },
        {
            "cell_type": "markdown",
            "metadata": {},
            "source": [
                "## Data Understanding"
            ]
        },
        {
            "cell_type": "code",
            "execution_count": 2,
            "metadata": {},
            "outputs": [
                {
                    "data": {
                        "text/html": [
                            "<div>\n",
                            "<style scoped>\n",
                            "    .dataframe tbody tr th:only-of-type {\n",
                            "        vertical-align: middle;\n",
                            "    }\n",
                            "\n",
                            "    .dataframe tbody tr th {\n",
                            "        vertical-align: top;\n",
                            "    }\n",
                            "\n",
                            "    .dataframe thead th {\n",
                            "        text-align: right;\n",
                            "    }\n",
                            "</style>\n",
                            "<table border=\"1\" class=\"dataframe\">\n",
                            "  <thead>\n",
                            "    <tr style=\"text-align: right;\">\n",
                            "      <th></th>\n",
                            "      <th>EmployeeId</th>\n",
                            "      <th>Age</th>\n",
                            "      <th>Attrition</th>\n",
                            "      <th>BusinessTravel</th>\n",
                            "      <th>DailyRate</th>\n",
                            "      <th>Department</th>\n",
                            "      <th>DistanceFromHome</th>\n",
                            "      <th>Education</th>\n",
                            "      <th>EducationField</th>\n",
                            "      <th>EmployeeCount</th>\n",
                            "      <th>...</th>\n",
                            "      <th>RelationshipSatisfaction</th>\n",
                            "      <th>StandardHours</th>\n",
                            "      <th>StockOptionLevel</th>\n",
                            "      <th>TotalWorkingYears</th>\n",
                            "      <th>TrainingTimesLastYear</th>\n",
                            "      <th>WorkLifeBalance</th>\n",
                            "      <th>YearsAtCompany</th>\n",
                            "      <th>YearsInCurrentRole</th>\n",
                            "      <th>YearsSinceLastPromotion</th>\n",
                            "      <th>YearsWithCurrManager</th>\n",
                            "    </tr>\n",
                            "  </thead>\n",
                            "  <tbody>\n",
                            "    <tr>\n",
                            "      <th>0</th>\n",
                            "      <td>1</td>\n",
                            "      <td>38</td>\n",
                            "      <td>NaN</td>\n",
                            "      <td>Travel_Frequently</td>\n",
                            "      <td>1444</td>\n",
                            "      <td>Human Resources</td>\n",
                            "      <td>1</td>\n",
                            "      <td>4</td>\n",
                            "      <td>Other</td>\n",
                            "      <td>1</td>\n",
                            "      <td>...</td>\n",
                            "      <td>2</td>\n",
                            "      <td>80</td>\n",
                            "      <td>1</td>\n",
                            "      <td>7</td>\n",
                            "      <td>2</td>\n",
                            "      <td>3</td>\n",
                            "      <td>6</td>\n",
                            "      <td>2</td>\n",
                            "      <td>1</td>\n",
                            "      <td>2</td>\n",
                            "    </tr>\n",
                            "    <tr>\n",
                            "      <th>1</th>\n",
                            "      <td>2</td>\n",
                            "      <td>37</td>\n",
                            "      <td>1.0</td>\n",
                            "      <td>Travel_Rarely</td>\n",
                            "      <td>1141</td>\n",
                            "      <td>Research &amp; Development</td>\n",
                            "      <td>11</td>\n",
                            "      <td>2</td>\n",
                            "      <td>Medical</td>\n",
                            "      <td>1</td>\n",
                            "      <td>...</td>\n",
                            "      <td>1</td>\n",
                            "      <td>80</td>\n",
                            "      <td>0</td>\n",
                            "      <td>15</td>\n",
                            "      <td>2</td>\n",
                            "      <td>1</td>\n",
                            "      <td>1</td>\n",
                            "      <td>0</td>\n",
                            "      <td>0</td>\n",
                            "      <td>0</td>\n",
                            "    </tr>\n",
                            "    <tr>\n",
                            "      <th>2</th>\n",
                            "      <td>3</td>\n",
                            "      <td>51</td>\n",
                            "      <td>1.0</td>\n",
                            "      <td>Travel_Rarely</td>\n",
                            "      <td>1323</td>\n",
                            "      <td>Research &amp; Development</td>\n",
                            "      <td>4</td>\n",
                            "      <td>4</td>\n",
                            "      <td>Life Sciences</td>\n",
                            "      <td>1</td>\n",
                            "      <td>...</td>\n",
                            "      <td>3</td>\n",
                            "      <td>80</td>\n",
                            "      <td>3</td>\n",
                            "      <td>18</td>\n",
                            "      <td>2</td>\n",
                            "      <td>4</td>\n",
                            "      <td>10</td>\n",
                            "      <td>0</td>\n",
                            "      <td>2</td>\n",
                            "      <td>7</td>\n",
                            "    </tr>\n",
                            "    <tr>\n",
                            "      <th>3</th>\n",
                            "      <td>4</td>\n",
                            "      <td>42</td>\n",
                            "      <td>0.0</td>\n",
                            "      <td>Travel_Frequently</td>\n",
                            "      <td>555</td>\n",
                            "      <td>Sales</td>\n",
                            "      <td>26</td>\n",
                            "      <td>3</td>\n",
                            "      <td>Marketing</td>\n",
                            "      <td>1</td>\n",
                            "      <td>...</td>\n",
                            "      <td>4</td>\n",
                            "      <td>80</td>\n",
                            "      <td>1</td>\n",
                            "      <td>23</td>\n",
                            "      <td>2</td>\n",
                            "      <td>4</td>\n",
                            "      <td>20</td>\n",
                            "      <td>4</td>\n",
                            "      <td>4</td>\n",
                            "      <td>8</td>\n",
                            "    </tr>\n",
                            "    <tr>\n",
                            "      <th>4</th>\n",
                            "      <td>5</td>\n",
                            "      <td>40</td>\n",
                            "      <td>NaN</td>\n",
                            "      <td>Travel_Rarely</td>\n",
                            "      <td>1194</td>\n",
                            "      <td>Research &amp; Development</td>\n",
                            "      <td>2</td>\n",
                            "      <td>4</td>\n",
                            "      <td>Medical</td>\n",
                            "      <td>1</td>\n",
                            "      <td>...</td>\n",
                            "      <td>2</td>\n",
                            "      <td>80</td>\n",
                            "      <td>3</td>\n",
                            "      <td>20</td>\n",
                            "      <td>2</td>\n",
                            "      <td>3</td>\n",
                            "      <td>5</td>\n",
                            "      <td>3</td>\n",
                            "      <td>0</td>\n",
                            "      <td>2</td>\n",
                            "    </tr>\n",
                            "  </tbody>\n",
                            "</table>\n",
                            "<p>5 rows × 35 columns</p>\n",
                            "</div>"
                        ],
                        "text/plain": [
                            "   EmployeeId  Age  Attrition     BusinessTravel  DailyRate  \\\n",
                            "0           1   38        NaN  Travel_Frequently       1444   \n",
                            "1           2   37        1.0      Travel_Rarely       1141   \n",
                            "2           3   51        1.0      Travel_Rarely       1323   \n",
                            "3           4   42        0.0  Travel_Frequently        555   \n",
                            "4           5   40        NaN      Travel_Rarely       1194   \n",
                            "\n",
                            "               Department  DistanceFromHome  Education EducationField  \\\n",
                            "0         Human Resources                 1          4          Other   \n",
                            "1  Research & Development                11          2        Medical   \n",
                            "2  Research & Development                 4          4  Life Sciences   \n",
                            "3                   Sales                26          3      Marketing   \n",
                            "4  Research & Development                 2          4        Medical   \n",
                            "\n",
                            "   EmployeeCount  ...  RelationshipSatisfaction StandardHours  \\\n",
                            "0              1  ...                         2            80   \n",
                            "1              1  ...                         1            80   \n",
                            "2              1  ...                         3            80   \n",
                            "3              1  ...                         4            80   \n",
                            "4              1  ...                         2            80   \n",
                            "\n",
                            "   StockOptionLevel  TotalWorkingYears  TrainingTimesLastYear WorkLifeBalance  \\\n",
                            "0                 1                  7                      2               3   \n",
                            "1                 0                 15                      2               1   \n",
                            "2                 3                 18                      2               4   \n",
                            "3                 1                 23                      2               4   \n",
                            "4                 3                 20                      2               3   \n",
                            "\n",
                            "   YearsAtCompany YearsInCurrentRole  YearsSinceLastPromotion  \\\n",
                            "0               6                  2                        1   \n",
                            "1               1                  0                        0   \n",
                            "2              10                  0                        2   \n",
                            "3              20                  4                        4   \n",
                            "4               5                  3                        0   \n",
                            "\n",
                            "   YearsWithCurrManager  \n",
                            "0                     2  \n",
                            "1                     0  \n",
                            "2                     7  \n",
                            "3                     8  \n",
                            "4                     2  \n",
                            "\n",
                            "[5 rows x 35 columns]"
                        ]
                    },
                    "execution_count": 2,
                    "metadata": {},
                    "output_type": "execute_result"
                }
            ],
            "source": [
                "df = pd.read_csv(\n",
                "    \"employee_data.csv\",\n",
                "    encoding='windows-1252'\n",
                ")\n",
                "df.head(5)"
            ]
        },
        {
            "cell_type": "markdown",
            "metadata": {},
            "source": [
                "### Employee Data\n",
                "\n",
                "The data contains demographic details, work-related metrics and attrition flag.\n",
                "\n",
                "* **EmployeeId** - Employee Identifier\n",
                "* **Attrition** - Did the employee attrition? (0=no, 1=yes)\n",
                "* **Age** - Age of the employee\n",
                "* **BusinessTravel** - Travel commitments for the job\n",
                "* **DailyRate** - Daily salary\n",
                "* **Department** - Employee Department\n",
                "* **DistanceFromHome** - Distance from work to home (in km)\n",
                "* **Education** - 1-Below College, 2-College, 3-Bachelor, 4-Master,5-Doctor\n",
                "* **EducationField** - Field of Education\n",
                "* **EnvironmentSatisfaction** - 1-Low, 2-Medium, 3-High, 4-Very High\n",
                "* **Gender** - Employee's gender\n",
                "* **HourlyRate** - Hourly salary\n",
                "* **JobInvolvement** - 1-Low, 2-Medium, 3-High, 4-Very High\n",
                "* **JobLevel** - Level of job (1 to 5)\n",
                "* **JobRole** - Job Roles\n",
                "* **JobSatisfaction** - 1-Low, 2-Medium, 3-High, 4-Very High\n",
                "* **MaritalStatus** - Marital Status\n",
                "* **MonthlyIncome** - Monthly salary\n",
                "* **MonthlyRate** - Mounthly rate\n",
                "* **NumCompaniesWorked** - Number of companies worked at\n",
                "* **Over18** - Over 18 years of age?\n",
                "* **OverTime** - Overtime?\n",
                "* **PercentSalaryHike** - The percentage increase in salary last year\n",
                "* **PerformanceRating** - 1-Low, 2-Good, 3-Excellent, 4-Outstanding\n",
                "* **RelationshipSatisfaction** - 1-Low, 2-Medium, 3-High, 4-Very High\n",
                "* **StandardHours** - Standard Hours\n",
                "* **StockOptionLevel** - Stock Option Level\n",
                "* **TotalWorkingYears** - Total years worked\n",
                "* **TrainingTimesLastYear** - Number of training attended last year\n",
                "* **WorkLifeBalance** - 1-Low, 2-Good, 3-Excellent, 4-Outstanding\n",
                "* **YearsAtCompany** - Years at Company\n",
                "* **YearsInCurrentRole** - Years in the current role\n",
                "* **YearsSinceLastPromotion** - Years since the last promotion\n",
                "* **YearsWithCurrManager** - Years with the current manager\n",
                "\n",
                "## Acknowledgements\n",
                "https://www.ibm.com/communities/analytics/watson-analytics-blog/watson-analytics-use-case-for-hr-retaining-valuable-employees/"
            ]
        },
        {
            "cell_type": "markdown",
            "metadata": {},
            "source": [
                "dari analisis penjelasan data yang digunakan, analisis terhadap usia karyawan akan dilakukan. serta melakukan analisis jenis kelamin karyawan yang juga memperngaruhi pengunduran diri karyawan."
            ]
        },
        {
            "cell_type": "markdown",
            "metadata": {},
            "source": [
                "## Analisis Masalah\n",
                "* faktor yang mempengaruhi tingginya attrition rate\n",
                "## Fokus yang dianalisis\n",
                "* Attrition\n",
                "* Age\n",
                "* Gender\n",
                "* Over18"
            ]
        },
        {
            "cell_type": "markdown",
            "metadata": {},
            "source": [
                "## Data Preparation / Preprocessing"
            ]
        },
        {
            "cell_type": "markdown",
            "metadata": {},
            "source": [
                "### create database in supabase"
            ]
        },
        {
            "cell_type": "markdown",
            "metadata": {},
            "source": [
                "catatan, database sudah diimport lewat metabase"
            ]
        },
        {
            "cell_type": "code",
            "execution_count": 7,
            "metadata": {},
            "outputs": [],
            "source": [
                "URL = \"postgresql://postgres.diglleahdhewgeyytabc:WdbyMz-5(Z6/p2&@aws-0-ap-southeast-1.pooler.supabase.com:5432/postgres\"\n",
                "\n",
                "# engine = create_engine(URL)\n",
                "# df.to_sql('employee', engine)"
            ]
        },
        {
            "cell_type": "markdown",
            "metadata": {},
            "source": [
                "### read table in supabase"
            ]
        },
        {
            "cell_type": "code",
            "execution_count": 8,
            "metadata": {},
            "outputs": [
                {
                    "data": {
                        "text/html": [
                            "<div>\n",
                            "<style scoped>\n",
                            "    .dataframe tbody tr th:only-of-type {\n",
                            "        vertical-align: middle;\n",
                            "    }\n",
                            "\n",
                            "    .dataframe tbody tr th {\n",
                            "        vertical-align: top;\n",
                            "    }\n",
                            "\n",
                            "    .dataframe thead th {\n",
                            "        text-align: right;\n",
                            "    }\n",
                            "</style>\n",
                            "<table border=\"1\" class=\"dataframe\">\n",
                            "  <thead>\n",
                            "    <tr style=\"text-align: right;\">\n",
                            "      <th></th>\n",
                            "      <th>index</th>\n",
                            "      <th>EmployeeId</th>\n",
                            "      <th>Age</th>\n",
                            "      <th>Attrition</th>\n",
                            "      <th>BusinessTravel</th>\n",
                            "      <th>DailyRate</th>\n",
                            "      <th>Department</th>\n",
                            "      <th>DistanceFromHome</th>\n",
                            "      <th>Education</th>\n",
                            "      <th>EducationField</th>\n",
                            "      <th>...</th>\n",
                            "      <th>RelationshipSatisfaction</th>\n",
                            "      <th>StandardHours</th>\n",
                            "      <th>StockOptionLevel</th>\n",
                            "      <th>TotalWorkingYears</th>\n",
                            "      <th>TrainingTimesLastYear</th>\n",
                            "      <th>WorkLifeBalance</th>\n",
                            "      <th>YearsAtCompany</th>\n",
                            "      <th>YearsInCurrentRole</th>\n",
                            "      <th>YearsSinceLastPromotion</th>\n",
                            "      <th>YearsWithCurrManager</th>\n",
                            "    </tr>\n",
                            "  </thead>\n",
                            "  <tbody>\n",
                            "    <tr>\n",
                            "      <th>0</th>\n",
                            "      <td>0</td>\n",
                            "      <td>1</td>\n",
                            "      <td>38</td>\n",
                            "      <td>NaN</td>\n",
                            "      <td>Travel_Frequently</td>\n",
                            "      <td>1444</td>\n",
                            "      <td>Human Resources</td>\n",
                            "      <td>1</td>\n",
                            "      <td>4</td>\n",
                            "      <td>Other</td>\n",
                            "      <td>...</td>\n",
                            "      <td>2</td>\n",
                            "      <td>80</td>\n",
                            "      <td>1</td>\n",
                            "      <td>7</td>\n",
                            "      <td>2</td>\n",
                            "      <td>3</td>\n",
                            "      <td>6</td>\n",
                            "      <td>2</td>\n",
                            "      <td>1</td>\n",
                            "      <td>2</td>\n",
                            "    </tr>\n",
                            "    <tr>\n",
                            "      <th>1</th>\n",
                            "      <td>1</td>\n",
                            "      <td>2</td>\n",
                            "      <td>37</td>\n",
                            "      <td>1.0</td>\n",
                            "      <td>Travel_Rarely</td>\n",
                            "      <td>1141</td>\n",
                            "      <td>Research &amp; Development</td>\n",
                            "      <td>11</td>\n",
                            "      <td>2</td>\n",
                            "      <td>Medical</td>\n",
                            "      <td>...</td>\n",
                            "      <td>1</td>\n",
                            "      <td>80</td>\n",
                            "      <td>0</td>\n",
                            "      <td>15</td>\n",
                            "      <td>2</td>\n",
                            "      <td>1</td>\n",
                            "      <td>1</td>\n",
                            "      <td>0</td>\n",
                            "      <td>0</td>\n",
                            "      <td>0</td>\n",
                            "    </tr>\n",
                            "    <tr>\n",
                            "      <th>2</th>\n",
                            "      <td>2</td>\n",
                            "      <td>3</td>\n",
                            "      <td>51</td>\n",
                            "      <td>1.0</td>\n",
                            "      <td>Travel_Rarely</td>\n",
                            "      <td>1323</td>\n",
                            "      <td>Research &amp; Development</td>\n",
                            "      <td>4</td>\n",
                            "      <td>4</td>\n",
                            "      <td>Life Sciences</td>\n",
                            "      <td>...</td>\n",
                            "      <td>3</td>\n",
                            "      <td>80</td>\n",
                            "      <td>3</td>\n",
                            "      <td>18</td>\n",
                            "      <td>2</td>\n",
                            "      <td>4</td>\n",
                            "      <td>10</td>\n",
                            "      <td>0</td>\n",
                            "      <td>2</td>\n",
                            "      <td>7</td>\n",
                            "    </tr>\n",
                            "    <tr>\n",
                            "      <th>3</th>\n",
                            "      <td>3</td>\n",
                            "      <td>4</td>\n",
                            "      <td>42</td>\n",
                            "      <td>0.0</td>\n",
                            "      <td>Travel_Frequently</td>\n",
                            "      <td>555</td>\n",
                            "      <td>Sales</td>\n",
                            "      <td>26</td>\n",
                            "      <td>3</td>\n",
                            "      <td>Marketing</td>\n",
                            "      <td>...</td>\n",
                            "      <td>4</td>\n",
                            "      <td>80</td>\n",
                            "      <td>1</td>\n",
                            "      <td>23</td>\n",
                            "      <td>2</td>\n",
                            "      <td>4</td>\n",
                            "      <td>20</td>\n",
                            "      <td>4</td>\n",
                            "      <td>4</td>\n",
                            "      <td>8</td>\n",
                            "    </tr>\n",
                            "    <tr>\n",
                            "      <th>4</th>\n",
                            "      <td>4</td>\n",
                            "      <td>5</td>\n",
                            "      <td>40</td>\n",
                            "      <td>NaN</td>\n",
                            "      <td>Travel_Rarely</td>\n",
                            "      <td>1194</td>\n",
                            "      <td>Research &amp; Development</td>\n",
                            "      <td>2</td>\n",
                            "      <td>4</td>\n",
                            "      <td>Medical</td>\n",
                            "      <td>...</td>\n",
                            "      <td>2</td>\n",
                            "      <td>80</td>\n",
                            "      <td>3</td>\n",
                            "      <td>20</td>\n",
                            "      <td>2</td>\n",
                            "      <td>3</td>\n",
                            "      <td>5</td>\n",
                            "      <td>3</td>\n",
                            "      <td>0</td>\n",
                            "      <td>2</td>\n",
                            "    </tr>\n",
                            "  </tbody>\n",
                            "</table>\n",
                            "<p>5 rows × 36 columns</p>\n",
                            "</div>"
                        ],
                        "text/plain": [
                            "   index  EmployeeId  Age  Attrition     BusinessTravel  DailyRate  \\\n",
                            "0      0           1   38        NaN  Travel_Frequently       1444   \n",
                            "1      1           2   37        1.0      Travel_Rarely       1141   \n",
                            "2      2           3   51        1.0      Travel_Rarely       1323   \n",
                            "3      3           4   42        0.0  Travel_Frequently        555   \n",
                            "4      4           5   40        NaN      Travel_Rarely       1194   \n",
                            "\n",
                            "               Department  DistanceFromHome  Education EducationField  ...  \\\n",
                            "0         Human Resources                 1          4          Other  ...   \n",
                            "1  Research & Development                11          2        Medical  ...   \n",
                            "2  Research & Development                 4          4  Life Sciences  ...   \n",
                            "3                   Sales                26          3      Marketing  ...   \n",
                            "4  Research & Development                 2          4        Medical  ...   \n",
                            "\n",
                            "   RelationshipSatisfaction  StandardHours StockOptionLevel  \\\n",
                            "0                         2             80                1   \n",
                            "1                         1             80                0   \n",
                            "2                         3             80                3   \n",
                            "3                         4             80                1   \n",
                            "4                         2             80                3   \n",
                            "\n",
                            "   TotalWorkingYears  TrainingTimesLastYear  WorkLifeBalance YearsAtCompany  \\\n",
                            "0                  7                      2                3              6   \n",
                            "1                 15                      2                1              1   \n",
                            "2                 18                      2                4             10   \n",
                            "3                 23                      2                4             20   \n",
                            "4                 20                      2                3              5   \n",
                            "\n",
                            "   YearsInCurrentRole YearsSinceLastPromotion  YearsWithCurrManager  \n",
                            "0                   2                       1                     2  \n",
                            "1                   0                       0                     0  \n",
                            "2                   0                       2                     7  \n",
                            "3                   4                       4                     8  \n",
                            "4                   3                       0                     2  \n",
                            "\n",
                            "[5 rows x 36 columns]"
                        ]
                    },
                    "execution_count": 8,
                    "metadata": {},
                    "output_type": "execute_result"
                }
            ],
            "source": [
                "engine = create_engine(URL)\n",
                "df = pd.read_sql_table(table_name=\"employee\", con=engine.connect())\n",
                "df.head(5)"
            ]
        },
        {
            "cell_type": "markdown",
            "metadata": {},
            "source": [
                "### check info from database"
            ]
        },
        {
            "cell_type": "code",
            "execution_count": 9,
            "metadata": {},
            "outputs": [
                {
                    "name": "stdout",
                    "output_type": "stream",
                    "text": [
                        "<class 'pandas.core.frame.DataFrame'>\n",
                        "RangeIndex: 1470 entries, 0 to 1469\n",
                        "Data columns (total 36 columns):\n",
                        " #   Column                    Non-Null Count  Dtype  \n",
                        "---  ------                    --------------  -----  \n",
                        " 0   index                     1470 non-null   int64  \n",
                        " 1   EmployeeId                1470 non-null   int64  \n",
                        " 2   Age                       1470 non-null   int64  \n",
                        " 3   Attrition                 1058 non-null   float64\n",
                        " 4   BusinessTravel            1470 non-null   object \n",
                        " 5   DailyRate                 1470 non-null   int64  \n",
                        " 6   Department                1470 non-null   object \n",
                        " 7   DistanceFromHome          1470 non-null   int64  \n",
                        " 8   Education                 1470 non-null   int64  \n",
                        " 9   EducationField            1470 non-null   object \n",
                        " 10  EmployeeCount             1470 non-null   int64  \n",
                        " 11  EnvironmentSatisfaction   1470 non-null   int64  \n",
                        " 12  Gender                    1470 non-null   object \n",
                        " 13  HourlyRate                1470 non-null   int64  \n",
                        " 14  JobInvolvement            1470 non-null   int64  \n",
                        " 15  JobLevel                  1470 non-null   int64  \n",
                        " 16  JobRole                   1470 non-null   object \n",
                        " 17  JobSatisfaction           1470 non-null   int64  \n",
                        " 18  MaritalStatus             1470 non-null   object \n",
                        " 19  MonthlyIncome             1470 non-null   int64  \n",
                        " 20  MonthlyRate               1470 non-null   int64  \n",
                        " 21  NumCompaniesWorked        1470 non-null   int64  \n",
                        " 22  Over18                    1470 non-null   object \n",
                        " 23  OverTime                  1470 non-null   object \n",
                        " 24  PercentSalaryHike         1470 non-null   int64  \n",
                        " 25  PerformanceRating         1470 non-null   int64  \n",
                        " 26  RelationshipSatisfaction  1470 non-null   int64  \n",
                        " 27  StandardHours             1470 non-null   int64  \n",
                        " 28  StockOptionLevel          1470 non-null   int64  \n",
                        " 29  TotalWorkingYears         1470 non-null   int64  \n",
                        " 30  TrainingTimesLastYear     1470 non-null   int64  \n",
                        " 31  WorkLifeBalance           1470 non-null   int64  \n",
                        " 32  YearsAtCompany            1470 non-null   int64  \n",
                        " 33  YearsInCurrentRole        1470 non-null   int64  \n",
                        " 34  YearsSinceLastPromotion   1470 non-null   int64  \n",
                        " 35  YearsWithCurrManager      1470 non-null   int64  \n",
                        "dtypes: float64(1), int64(27), object(8)\n",
                        "memory usage: 413.6+ KB\n"
                    ]
                }
            ],
            "source": [
                "df.info()"
            ]
        },
        {
            "cell_type": "markdown",
            "metadata": {},
            "source": [
                "### check null value every columns"
            ]
        },
        {
            "cell_type": "code",
            "execution_count": 10,
            "metadata": {},
            "outputs": [
                {
                    "data": {
                        "text/plain": [
                            "index                         0\n",
                            "EmployeeId                    0\n",
                            "Age                           0\n",
                            "Attrition                   412\n",
                            "BusinessTravel                0\n",
                            "DailyRate                     0\n",
                            "Department                    0\n",
                            "DistanceFromHome              0\n",
                            "Education                     0\n",
                            "EducationField                0\n",
                            "EmployeeCount                 0\n",
                            "EnvironmentSatisfaction       0\n",
                            "Gender                        0\n",
                            "HourlyRate                    0\n",
                            "JobInvolvement                0\n",
                            "JobLevel                      0\n",
                            "JobRole                       0\n",
                            "JobSatisfaction               0\n",
                            "MaritalStatus                 0\n",
                            "MonthlyIncome                 0\n",
                            "MonthlyRate                   0\n",
                            "NumCompaniesWorked            0\n",
                            "Over18                        0\n",
                            "OverTime                      0\n",
                            "PercentSalaryHike             0\n",
                            "PerformanceRating             0\n",
                            "RelationshipSatisfaction      0\n",
                            "StandardHours                 0\n",
                            "StockOptionLevel              0\n",
                            "TotalWorkingYears             0\n",
                            "TrainingTimesLastYear         0\n",
                            "WorkLifeBalance               0\n",
                            "YearsAtCompany                0\n",
                            "YearsInCurrentRole            0\n",
                            "YearsSinceLastPromotion       0\n",
                            "YearsWithCurrManager          0\n",
                            "dtype: int64"
                        ]
                    },
                    "execution_count": 10,
                    "metadata": {},
                    "output_type": "execute_result"
                }
            ],
            "source": [
                "df.isna().sum()"
            ]
        },
        {
            "cell_type": "markdown",
            "metadata": {},
            "source": [
                "sekilas terlihat banyak value yang kosong pada kolom utama yang akan kita analisis, yaitu `Attrition`"
            ]
        },
        {
            "cell_type": "markdown",
            "metadata": {},
            "source": [
                "### Feature Selection"
            ]
        },
        {
            "cell_type": "code",
            "execution_count": 11,
            "metadata": {},
            "outputs": [
                {
                    "data": {
                        "text/html": [
                            "<div>\n",
                            "<style scoped>\n",
                            "    .dataframe tbody tr th:only-of-type {\n",
                            "        vertical-align: middle;\n",
                            "    }\n",
                            "\n",
                            "    .dataframe tbody tr th {\n",
                            "        vertical-align: top;\n",
                            "    }\n",
                            "\n",
                            "    .dataframe thead th {\n",
                            "        text-align: right;\n",
                            "    }\n",
                            "</style>\n",
                            "<table border=\"1\" class=\"dataframe\">\n",
                            "  <thead>\n",
                            "    <tr style=\"text-align: right;\">\n",
                            "      <th></th>\n",
                            "      <th>EmployeeId</th>\n",
                            "      <th>Age</th>\n",
                            "      <th>Attrition</th>\n",
                            "      <th>Gender</th>\n",
                            "      <th>Over18</th>\n",
                            "    </tr>\n",
                            "  </thead>\n",
                            "  <tbody>\n",
                            "    <tr>\n",
                            "      <th>0</th>\n",
                            "      <td>1</td>\n",
                            "      <td>38</td>\n",
                            "      <td>NaN</td>\n",
                            "      <td>Male</td>\n",
                            "      <td>Y</td>\n",
                            "    </tr>\n",
                            "    <tr>\n",
                            "      <th>1</th>\n",
                            "      <td>2</td>\n",
                            "      <td>37</td>\n",
                            "      <td>1.0</td>\n",
                            "      <td>Female</td>\n",
                            "      <td>Y</td>\n",
                            "    </tr>\n",
                            "    <tr>\n",
                            "      <th>2</th>\n",
                            "      <td>3</td>\n",
                            "      <td>51</td>\n",
                            "      <td>1.0</td>\n",
                            "      <td>Male</td>\n",
                            "      <td>Y</td>\n",
                            "    </tr>\n",
                            "    <tr>\n",
                            "      <th>3</th>\n",
                            "      <td>4</td>\n",
                            "      <td>42</td>\n",
                            "      <td>0.0</td>\n",
                            "      <td>Female</td>\n",
                            "      <td>Y</td>\n",
                            "    </tr>\n",
                            "    <tr>\n",
                            "      <th>4</th>\n",
                            "      <td>5</td>\n",
                            "      <td>40</td>\n",
                            "      <td>NaN</td>\n",
                            "      <td>Female</td>\n",
                            "      <td>Y</td>\n",
                            "    </tr>\n",
                            "  </tbody>\n",
                            "</table>\n",
                            "</div>"
                        ],
                        "text/plain": [
                            "   EmployeeId  Age  Attrition  Gender Over18\n",
                            "0           1   38        NaN    Male      Y\n",
                            "1           2   37        1.0  Female      Y\n",
                            "2           3   51        1.0    Male      Y\n",
                            "3           4   42        0.0  Female      Y\n",
                            "4           5   40        NaN  Female      Y"
                        ]
                    },
                    "execution_count": 11,
                    "metadata": {},
                    "output_type": "execute_result"
                }
            ],
            "source": [
                "column = ['EmployeeId', 'Age', 'Attrition', 'Gender', 'Over18']\n",
                "\n",
                "df = df[column]\n",
                "df.head()"
            ]
        },
        {
            "cell_type": "code",
            "execution_count": 12,
            "metadata": {},
            "outputs": [
                {
                    "name": "stdout",
                    "output_type": "stream",
                    "text": [
                        "<class 'pandas.core.frame.DataFrame'>\n",
                        "RangeIndex: 1470 entries, 0 to 1469\n",
                        "Data columns (total 5 columns):\n",
                        " #   Column      Non-Null Count  Dtype  \n",
                        "---  ------      --------------  -----  \n",
                        " 0   EmployeeId  1470 non-null   int64  \n",
                        " 1   Age         1470 non-null   int64  \n",
                        " 2   Attrition   1058 non-null   float64\n",
                        " 3   Gender      1470 non-null   object \n",
                        " 4   Over18      1470 non-null   object \n",
                        "dtypes: float64(1), int64(2), object(2)\n",
                        "memory usage: 57.6+ KB\n"
                    ]
                }
            ],
            "source": [
                "df.info()"
            ]
        },
        {
            "cell_type": "markdown",
            "metadata": {},
            "source": [
                "terlihat kalau tipe data Gender dan Over18 bukan numerik"
            ]
        },
        {
            "cell_type": "code",
            "execution_count": 13,
            "metadata": {},
            "outputs": [
                {
                    "name": "stdout",
                    "output_type": "stream",
                    "text": [
                        "['Male' 'Female']\n",
                        "['Y']\n"
                    ]
                }
            ],
            "source": [
                "print(df['Gender'].unique())\n",
                "print(df['Over18'].unique())"
            ]
        },
        {
            "cell_type": "markdown",
            "metadata": {},
            "source": [
                "terlihat bahwa `Gender` hanya terdapat 2 value, yaitu 'Male', dan 'Female. kita dapat replace dengan angka 1 untuk 'Male', dan angka 0 untuk 'Female'\n",
                "serta kolom `Over18` ternyata hanya terdapat 1 unik value 'Y'. maka kita dapat asumsikan bahwa lingkup analisis kita hanya di karyawan berusia diatas 18 tahun. maka kolom `Over18` bisa kita abaikan"
            ]
        },
        {
            "cell_type": "code",
            "execution_count": 14,
            "metadata": {},
            "outputs": [
                {
                    "data": {
                        "text/html": [
                            "<div>\n",
                            "<style scoped>\n",
                            "    .dataframe tbody tr th:only-of-type {\n",
                            "        vertical-align: middle;\n",
                            "    }\n",
                            "\n",
                            "    .dataframe tbody tr th {\n",
                            "        vertical-align: top;\n",
                            "    }\n",
                            "\n",
                            "    .dataframe thead th {\n",
                            "        text-align: right;\n",
                            "    }\n",
                            "</style>\n",
                            "<table border=\"1\" class=\"dataframe\">\n",
                            "  <thead>\n",
                            "    <tr style=\"text-align: right;\">\n",
                            "      <th></th>\n",
                            "      <th>EmployeeId</th>\n",
                            "      <th>Age</th>\n",
                            "      <th>Attrition</th>\n",
                            "      <th>Gender</th>\n",
                            "    </tr>\n",
                            "  </thead>\n",
                            "  <tbody>\n",
                            "    <tr>\n",
                            "      <th>0</th>\n",
                            "      <td>1</td>\n",
                            "      <td>38</td>\n",
                            "      <td>NaN</td>\n",
                            "      <td>Male</td>\n",
                            "    </tr>\n",
                            "    <tr>\n",
                            "      <th>1</th>\n",
                            "      <td>2</td>\n",
                            "      <td>37</td>\n",
                            "      <td>1.0</td>\n",
                            "      <td>Female</td>\n",
                            "    </tr>\n",
                            "    <tr>\n",
                            "      <th>2</th>\n",
                            "      <td>3</td>\n",
                            "      <td>51</td>\n",
                            "      <td>1.0</td>\n",
                            "      <td>Male</td>\n",
                            "    </tr>\n",
                            "    <tr>\n",
                            "      <th>3</th>\n",
                            "      <td>4</td>\n",
                            "      <td>42</td>\n",
                            "      <td>0.0</td>\n",
                            "      <td>Female</td>\n",
                            "    </tr>\n",
                            "    <tr>\n",
                            "      <th>4</th>\n",
                            "      <td>5</td>\n",
                            "      <td>40</td>\n",
                            "      <td>NaN</td>\n",
                            "      <td>Female</td>\n",
                            "    </tr>\n",
                            "  </tbody>\n",
                            "</table>\n",
                            "</div>"
                        ],
                        "text/plain": [
                            "   EmployeeId  Age  Attrition  Gender\n",
                            "0           1   38        NaN    Male\n",
                            "1           2   37        1.0  Female\n",
                            "2           3   51        1.0    Male\n",
                            "3           4   42        0.0  Female\n",
                            "4           5   40        NaN  Female"
                        ]
                    },
                    "execution_count": 14,
                    "metadata": {},
                    "output_type": "execute_result"
                }
            ],
            "source": [
                "column = ['EmployeeId', 'Age', 'Attrition', 'Gender']\n",
                "\n",
                "df = df[column]\n",
                "df.head()"
            ]
        },
        {
            "cell_type": "markdown",
            "metadata": {},
            "source": [
                "hapus kolom Over18"
            ]
        },
        {
            "cell_type": "markdown",
            "metadata": {},
            "source": [
                "### change type data `Gender`"
            ]
        },
        {
            "cell_type": "code",
            "execution_count": 15,
            "metadata": {},
            "outputs": [
                {
                    "data": {
                        "text/html": [
                            "<div>\n",
                            "<style scoped>\n",
                            "    .dataframe tbody tr th:only-of-type {\n",
                            "        vertical-align: middle;\n",
                            "    }\n",
                            "\n",
                            "    .dataframe tbody tr th {\n",
                            "        vertical-align: top;\n",
                            "    }\n",
                            "\n",
                            "    .dataframe thead th {\n",
                            "        text-align: right;\n",
                            "    }\n",
                            "</style>\n",
                            "<table border=\"1\" class=\"dataframe\">\n",
                            "  <thead>\n",
                            "    <tr style=\"text-align: right;\">\n",
                            "      <th></th>\n",
                            "      <th>EmployeeId</th>\n",
                            "      <th>Age</th>\n",
                            "      <th>Attrition</th>\n",
                            "      <th>Gender</th>\n",
                            "    </tr>\n",
                            "  </thead>\n",
                            "  <tbody>\n",
                            "    <tr>\n",
                            "      <th>0</th>\n",
                            "      <td>1</td>\n",
                            "      <td>38</td>\n",
                            "      <td>NaN</td>\n",
                            "      <td>1</td>\n",
                            "    </tr>\n",
                            "    <tr>\n",
                            "      <th>1</th>\n",
                            "      <td>2</td>\n",
                            "      <td>37</td>\n",
                            "      <td>1.0</td>\n",
                            "      <td>0</td>\n",
                            "    </tr>\n",
                            "    <tr>\n",
                            "      <th>2</th>\n",
                            "      <td>3</td>\n",
                            "      <td>51</td>\n",
                            "      <td>1.0</td>\n",
                            "      <td>1</td>\n",
                            "    </tr>\n",
                            "    <tr>\n",
                            "      <th>3</th>\n",
                            "      <td>4</td>\n",
                            "      <td>42</td>\n",
                            "      <td>0.0</td>\n",
                            "      <td>0</td>\n",
                            "    </tr>\n",
                            "    <tr>\n",
                            "      <th>4</th>\n",
                            "      <td>5</td>\n",
                            "      <td>40</td>\n",
                            "      <td>NaN</td>\n",
                            "      <td>0</td>\n",
                            "    </tr>\n",
                            "  </tbody>\n",
                            "</table>\n",
                            "</div>"
                        ],
                        "text/plain": [
                            "   EmployeeId  Age  Attrition  Gender\n",
                            "0           1   38        NaN       1\n",
                            "1           2   37        1.0       0\n",
                            "2           3   51        1.0       1\n",
                            "3           4   42        0.0       0\n",
                            "4           5   40        NaN       0"
                        ]
                    },
                    "execution_count": 15,
                    "metadata": {},
                    "output_type": "execute_result"
                }
            ],
            "source": [
                "df['Gender'] = df['Gender'].astype(str)\n",
                "df['Gender'] = df['Gender'].map({'Male': 1, 'Female': 0})\n",
                "df.head()"
            ]
        },
        {
            "cell_type": "code",
            "execution_count": 16,
            "metadata": {},
            "outputs": [
                {
                    "name": "stdout",
                    "output_type": "stream",
                    "text": [
                        "<class 'pandas.core.frame.DataFrame'>\n",
                        "RangeIndex: 1470 entries, 0 to 1469\n",
                        "Data columns (total 4 columns):\n",
                        " #   Column      Non-Null Count  Dtype  \n",
                        "---  ------      --------------  -----  \n",
                        " 0   EmployeeId  1470 non-null   int64  \n",
                        " 1   Age         1470 non-null   int64  \n",
                        " 2   Attrition   1058 non-null   float64\n",
                        " 3   Gender      1470 non-null   int64  \n",
                        "dtypes: float64(1), int64(3)\n",
                        "memory usage: 46.1 KB\n"
                    ]
                }
            ],
            "source": [
                "df.info()"
            ]
        },
        {
            "cell_type": "markdown",
            "metadata": {},
            "source": [
                "semua kolom sudah berisi value numerik, sekarang kita akan manipulasi kolom yang berisi data null"
            ]
        },
        {
            "cell_type": "code",
            "execution_count": 17,
            "metadata": {},
            "outputs": [
                {
                    "data": {
                        "text/plain": [
                            "EmployeeId      0\n",
                            "Age             0\n",
                            "Attrition     412\n",
                            "Gender          0\n",
                            "dtype: int64"
                        ]
                    },
                    "execution_count": 17,
                    "metadata": {},
                    "output_type": "execute_result"
                }
            ],
            "source": [
                "df.isna().sum()"
            ]
        },
        {
            "cell_type": "markdown",
            "metadata": {},
            "source": [
                "data `Attrition` banyak value yang kosong"
            ]
        },
        {
            "cell_type": "code",
            "execution_count": 18,
            "metadata": {},
            "outputs": [
                {
                    "data": {
                        "text/plain": [
                            "EmployeeId     0.000000\n",
                            "Age            0.000000\n",
                            "Attrition     28.027211\n",
                            "Gender         0.000000\n",
                            "dtype: float64"
                        ]
                    },
                    "execution_count": 18,
                    "metadata": {},
                    "output_type": "execute_result"
                }
            ],
            "source": [
                "100*df.isna().sum()/len(df)"
            ]
        },
        {
            "cell_type": "markdown",
            "metadata": {},
            "source": [
                "terlihat bahwa null value kurang dari 0.5 persen dari `Attrition`. maka akan dipakai drop"
            ]
        },
        {
            "cell_type": "code",
            "execution_count": 19,
            "metadata": {},
            "outputs": [
                {
                    "data": {
                        "text/plain": [
                            "EmployeeId    0\n",
                            "Age           0\n",
                            "Attrition     0\n",
                            "Gender        0\n",
                            "dtype: int64"
                        ]
                    },
                    "execution_count": 19,
                    "metadata": {},
                    "output_type": "execute_result"
                }
            ],
            "source": [
                "df.dropna(inplace=True)\n",
                "df.isna().sum()"
            ]
        },
        {
            "cell_type": "markdown",
            "metadata": {},
            "source": [
                "sekarang data null sudah teratasi"
            ]
        },
        {
            "cell_type": "markdown",
            "metadata": {},
            "source": [
                "## Exploratory Data Analysis"
            ]
        },
        {
            "cell_type": "markdown",
            "metadata": {},
            "source": [
                "### Describe Data"
            ]
        },
        {
            "cell_type": "code",
            "execution_count": 20,
            "metadata": {},
            "outputs": [
                {
                    "data": {
                        "text/html": [
                            "<div>\n",
                            "<style scoped>\n",
                            "    .dataframe tbody tr th:only-of-type {\n",
                            "        vertical-align: middle;\n",
                            "    }\n",
                            "\n",
                            "    .dataframe tbody tr th {\n",
                            "        vertical-align: top;\n",
                            "    }\n",
                            "\n",
                            "    .dataframe thead th {\n",
                            "        text-align: right;\n",
                            "    }\n",
                            "</style>\n",
                            "<table border=\"1\" class=\"dataframe\">\n",
                            "  <thead>\n",
                            "    <tr style=\"text-align: right;\">\n",
                            "      <th></th>\n",
                            "      <th>EmployeeId</th>\n",
                            "      <th>Age</th>\n",
                            "      <th>Attrition</th>\n",
                            "      <th>Gender</th>\n",
                            "    </tr>\n",
                            "  </thead>\n",
                            "  <tbody>\n",
                            "    <tr>\n",
                            "      <th>count</th>\n",
                            "      <td>1058.000000</td>\n",
                            "      <td>1058.000000</td>\n",
                            "      <td>1058.000000</td>\n",
                            "      <td>1058.000000</td>\n",
                            "    </tr>\n",
                            "    <tr>\n",
                            "      <th>mean</th>\n",
                            "      <td>736.656900</td>\n",
                            "      <td>37.055766</td>\n",
                            "      <td>0.169187</td>\n",
                            "      <td>0.586011</td>\n",
                            "    </tr>\n",
                            "    <tr>\n",
                            "      <th>std</th>\n",
                            "      <td>427.440538</td>\n",
                            "      <td>9.410421</td>\n",
                            "      <td>0.375094</td>\n",
                            "      <td>0.492779</td>\n",
                            "    </tr>\n",
                            "    <tr>\n",
                            "      <th>min</th>\n",
                            "      <td>2.000000</td>\n",
                            "      <td>18.000000</td>\n",
                            "      <td>0.000000</td>\n",
                            "      <td>0.000000</td>\n",
                            "    </tr>\n",
                            "    <tr>\n",
                            "      <th>25%</th>\n",
                            "      <td>364.250000</td>\n",
                            "      <td>30.000000</td>\n",
                            "      <td>0.000000</td>\n",
                            "      <td>0.000000</td>\n",
                            "    </tr>\n",
                            "    <tr>\n",
                            "      <th>50%</th>\n",
                            "      <td>731.500000</td>\n",
                            "      <td>36.000000</td>\n",
                            "      <td>0.000000</td>\n",
                            "      <td>1.000000</td>\n",
                            "    </tr>\n",
                            "    <tr>\n",
                            "      <th>75%</th>\n",
                            "      <td>1117.750000</td>\n",
                            "      <td>43.000000</td>\n",
                            "      <td>0.000000</td>\n",
                            "      <td>1.000000</td>\n",
                            "    </tr>\n",
                            "    <tr>\n",
                            "      <th>max</th>\n",
                            "      <td>1470.000000</td>\n",
                            "      <td>60.000000</td>\n",
                            "      <td>1.000000</td>\n",
                            "      <td>1.000000</td>\n",
                            "    </tr>\n",
                            "  </tbody>\n",
                            "</table>\n",
                            "</div>"
                        ],
                        "text/plain": [
                            "        EmployeeId          Age    Attrition       Gender\n",
                            "count  1058.000000  1058.000000  1058.000000  1058.000000\n",
                            "mean    736.656900    37.055766     0.169187     0.586011\n",
                            "std     427.440538     9.410421     0.375094     0.492779\n",
                            "min       2.000000    18.000000     0.000000     0.000000\n",
                            "25%     364.250000    30.000000     0.000000     0.000000\n",
                            "50%     731.500000    36.000000     0.000000     1.000000\n",
                            "75%    1117.750000    43.000000     0.000000     1.000000\n",
                            "max    1470.000000    60.000000     1.000000     1.000000"
                        ]
                    },
                    "execution_count": 20,
                    "metadata": {},
                    "output_type": "execute_result"
                }
            ],
            "source": [
                "df.describe()"
            ]
        },
        {
            "cell_type": "markdown",
            "metadata": {},
            "source": [
                "sebaran data sudah terlihat normal, menandakan outlier sudah tidak ada. data bisa diproses"
            ]
        },
        {
            "cell_type": "markdown",
            "metadata": {},
            "source": [
                "### Show distribution Data"
            ]
        },
        {
            "cell_type": "markdown",
            "metadata": {},
            "source": [
                "show distribusi data kecuali `EmployeeID`"
            ]
        },
        {
            "cell_type": "code",
            "execution_count": 22,
            "metadata": {},
            "outputs": [
                {
                    "data": {
                        "image/png": "[encoded data removed]",
                        "text/plain": [
                            "<Figure size 1500x500 with 3 Axes>"
                        ]
                    },
                    "metadata": {},
                    "output_type": "display_data"
                }
            ],
            "source": [
                "plt.figure(figsize=(15, 5))\n",
                "\n",
                "plt.subplot(1, 3, 1)\n",
                "plt.hist(df['Age'], bins=15, color='skyblue', edgecolor='black')\n",
                "plt.title('Age')\n",
                "plt.xlabel('Value')\n",
                "plt.ylabel('Count')\n",
                "\n",
                "attrition_counts = df['Attrition'].value_counts()\n",
                "\n",
                "plt.subplot(1, 3, 2)\n",
                "plt.bar(attrition_counts.index, attrition_counts.values, color=['lightgreen', 'lightcoral'])\n",
                "plt.title('Attrition')\n",
                "plt.xlabel('Value')\n",
                "plt.ylabel('Count')\n",
                "\n",
                "gender_counts = df['Gender'].value_counts()\n",
                "\n",
                "plt.subplot(1, 3, 3)\n",
                "plt.bar(gender_counts.index, gender_counts.values, color=['lightblue', 'lightpink'])\n",
                "plt.title('Gender')\n",
                "plt.xlabel('Value')\n",
                "plt.ylabel('Count')\n",
                "\n",
                "plt.tight_layout()\n",
                "plt.show()"
            ]
        },
        {
            "cell_type": "markdown",
            "metadata": {},
            "source": [
                "dari distribusi terlihat, terdapat beberapa hal yang bisa dianalisis.\n",
                "* kebanyakan usia karyawan berada di rentang 30 - 40\n",
                "* lebih sedikit karyawan yang melakukan pengunduran diri\n",
                "* lebih banyak karyawan Male daripada Female"
            ]
        },
        {
            "cell_type": "markdown",
            "metadata": {},
            "source": [
                "### Relationship between Age and Attrition"
            ]
        },
        {
            "cell_type": "code",
            "execution_count": 23,
            "metadata": {},
            "outputs": [
                {
                    "data": {
                        "image/png": "[encoded data removed]",
                        "text/plain": [
                            "<Figure size 1000x600 with 1 Axes>"
                        ]
                    },
                    "metadata": {},
                    "output_type": "display_data"
                }
            ],
            "source": [
                "attrition_yes = df[df['Attrition'] == 1]['Age']\n",
                "attrition_no = df[df['Attrition'] == 0]['Age']\n",
                "\n",
                "plt.figure(figsize=(10, 6))\n",
                "plt.hist(attrition_yes, bins=15, color='red', alpha=0.5, label='Attrition Yes')\n",
                "plt.hist(attrition_no, bins=15, color='green', alpha=0.5, label='Attrition No')\n",
                "plt.title('Hubungan antara Usia dan Attrition')\n",
                "plt.xlabel('Usia')\n",
                "plt.ylabel('Frekuensi')\n",
                "plt.legend()\n",
                "plt.grid(True)\n",
                "plt.show()\n"
            ]
        },
        {
            "cell_type": "markdown",
            "metadata": {},
            "source": [
                "ternyata usia dibawah 20 tahun mempunyai nilai attrition Yes yang melebihi yang No\n",
                "ini justru menjadi tanda tanya. serta jumlah yang lumayan pada usia sekitar 30-an tahun, walau tidak sebanyak attrition No."
            ]
        },
        {
            "cell_type": "markdown",
            "metadata": {},
            "source": [
                "### Relationship between Gender and Attrition"
            ]
        },
        {
            "cell_type": "code",
            "execution_count": 24,
            "metadata": {},
            "outputs": [
                {
                    "data": {
                        "image/png": "[encoded data removed]",
                        "text/plain": [
                            "<Figure size 800x600 with 1 Axes>"
                        ]
                    },
                    "metadata": {},
                    "output_type": "display_data"
                }
            ],
            "source": [
                "attrition_yes = df[df['Attrition'] == 1]['Gender']\n",
                "attrition_no = df[df['Attrition'] == 0]['Gender']\n",
                "\n",
                "gender_counts_yes = attrition_yes.value_counts()\n",
                "gender_counts_no = attrition_no.value_counts()\n",
                "\n",
                "plt.figure(figsize=(8, 6))\n",
                "plt.bar(gender_counts_yes.index, gender_counts_yes.values, color='red', alpha=0.5, label='Attrition Yes')\n",
                "plt.bar(gender_counts_no.index, gender_counts_no.values, color='green', alpha=0.5, label='Attrition No')\n",
                "plt.title('Hubungan antara Gender dan Attrition')\n",
                "plt.xlabel('Gender')\n",
                "plt.ylabel('Frekuensi')\n",
                "plt.legend()\n",
                "plt.grid(True)\n",
                "plt.show()"
            ]
        },
        {
            "cell_type": "markdown",
            "metadata": {},
            "source": [
                "terlihat bahwa jumlah karyawan Male yang mengundurkan diri lebih banyak sedikit daripada karyawan Female"
            ]
        },
        {
            "cell_type": "markdown",
            "metadata": {},
            "source": [
                "### Relationship between Gender and Age"
            ]
        },
        {
            "cell_type": "code",
            "execution_count": 25,
            "metadata": {},
            "outputs": [
                {
                    "data": {
                        "image/png": "[encoded data removed]",
                        "text/plain": [
                            "<Figure size 1000x600 with 1 Axes>"
                        ]
                    },
                    "metadata": {},
                    "output_type": "display_data"
                }
            ],
            "source": [
                "male_age = df[df['Gender'] == 1]['Age']\n",
                "female_age = df[df['Gender'] == 0]['Age']\n",
                "\n",
                "plt.figure(figsize=(10, 6))\n",
                "plt.hist(male_age, bins=15, color='blue', alpha=0.5, label='Male')\n",
                "plt.hist(female_age, bins=15, color='pink', alpha=0.5, label='Female')\n",
                "plt.title('Hubungan antara Usia dan Gender')\n",
                "plt.xlabel('Usia')\n",
                "plt.ylabel('Frekuensi')\n",
                "plt.legend()\n",
                "plt.grid(True)\n",
                "plt.show()\n"
            ]
        },
        {
            "cell_type": "markdown",
            "metadata": {},
            "source": [
                "terlihat perbandingan Gender yang significant pada usia antara 30 - 40 tahun"
            ]
        },
        {
            "cell_type": "markdown",
            "metadata": {},
            "source": [
                "dari EDA bisa dilihat bahwa usia dibawah 20 tahun memiliki kerentanan pengunduran diri, dan jenis kelamin Male memiliki grafik pengunduran diri yang lummayan dibandingkan Female"
            ]
        },
        {
            "cell_type": "markdown",
            "metadata": {},
            "source": [
                "sehingga, disarankan untuk mengelompokkan golongan yang memiliki potensi pengunduran diri yang lumayan.\n",
                "akan dilakukan clustering `EmployeeID` berdasarkan usia karyawan."
            ]
        },
        {
            "cell_type": "markdown",
            "metadata": {},
            "source": [
                "## Modeling"
            ]
        },
        {
            "cell_type": "code",
            "execution_count": 40,
            "metadata": {},
            "outputs": [
                {
                    "data": {
                        "text/html": [
                            "<div>\n",
                            "<style scoped>\n",
                            "    .dataframe tbody tr th:only-of-type {\n",
                            "        vertical-align: middle;\n",
                            "    }\n",
                            "\n",
                            "    .dataframe tbody tr th {\n",
                            "        vertical-align: top;\n",
                            "    }\n",
                            "\n",
                            "    .dataframe thead th {\n",
                            "        text-align: right;\n",
                            "    }\n",
                            "</style>\n",
                            "<table border=\"1\" class=\"dataframe\">\n",
                            "  <thead>\n",
                            "    <tr style=\"text-align: right;\">\n",
                            "      <th></th>\n",
                            "      <th>EmployeeId</th>\n",
                            "      <th>Age</th>\n",
                            "      <th>Attrition</th>\n",
                            "      <th>Gender</th>\n",
                            "    </tr>\n",
                            "  </thead>\n",
                            "  <tbody>\n",
                            "    <tr>\n",
                            "      <th>1</th>\n",
                            "      <td>2</td>\n",
                            "      <td>37</td>\n",
                            "      <td>1.0</td>\n",
                            "      <td>0</td>\n",
                            "    </tr>\n",
                            "    <tr>\n",
                            "      <th>2</th>\n",
                            "      <td>3</td>\n",
                            "      <td>51</td>\n",
                            "      <td>1.0</td>\n",
                            "      <td>1</td>\n",
                            "    </tr>\n",
                            "    <tr>\n",
                            "      <th>3</th>\n",
                            "      <td>4</td>\n",
                            "      <td>42</td>\n",
                            "      <td>0.0</td>\n",
                            "      <td>0</td>\n",
                            "    </tr>\n",
                            "    <tr>\n",
                            "      <th>6</th>\n",
                            "      <td>7</td>\n",
                            "      <td>40</td>\n",
                            "      <td>0.0</td>\n",
                            "      <td>1</td>\n",
                            "    </tr>\n",
                            "    <tr>\n",
                            "      <th>7</th>\n",
                            "      <td>8</td>\n",
                            "      <td>55</td>\n",
                            "      <td>1.0</td>\n",
                            "      <td>1</td>\n",
                            "    </tr>\n",
                            "  </tbody>\n",
                            "</table>\n",
                            "</div>"
                        ],
                        "text/plain": [
                            "   EmployeeId  Age  Attrition  Gender\n",
                            "1           2   37        1.0       0\n",
                            "2           3   51        1.0       1\n",
                            "3           4   42        0.0       0\n",
                            "6           7   40        0.0       1\n",
                            "7           8   55        1.0       1"
                        ]
                    },
                    "execution_count": 40,
                    "metadata": {},
                    "output_type": "execute_result"
                }
            ],
            "source": [
                "X = pd.get_dummies(df,dtype='int')\n",
                "X.head()"
            ]
        },
        {
            "cell_type": "code",
            "execution_count": 41,
            "metadata": {},
            "outputs": [
                {
                    "name": "stderr",
                    "output_type": "stream",
                    "text": [
                        "f:\\IDCAMP_DICODING\\kelas_mahir\\.env\\Lib\\site-packages\\sklearn\\cluster\\_kmeans.py:870: FutureWarning: The default value of `n_init` will change from 10 to 'auto' in 1.4. Set the value of `n_init` explicitly to suppress the warning\n",
                        "  warnings.warn(\n",
                        "f:\\IDCAMP_DICODING\\kelas_mahir\\.env\\Lib\\site-packages\\sklearn\\cluster\\_kmeans.py:870: FutureWarning: The default value of `n_init` will change from 10 to 'auto' in 1.4. Set the value of `n_init` explicitly to suppress the warning\n",
                        "  warnings.warn(\n",
                        "f:\\IDCAMP_DICODING\\kelas_mahir\\.env\\Lib\\site-packages\\sklearn\\cluster\\_kmeans.py:870: FutureWarning: The default value of `n_init` will change from 10 to 'auto' in 1.4. Set the value of `n_init` explicitly to suppress the warning\n",
                        "  warnings.warn(\n",
                        "f:\\IDCAMP_DICODING\\kelas_mahir\\.env\\Lib\\site-packages\\sklearn\\cluster\\_kmeans.py:870: FutureWarning: The default value of `n_init` will change from 10 to 'auto' in 1.4. Set the value of `n_init` explicitly to suppress the warning\n",
                        "  warnings.warn(\n",
                        "f:\\IDCAMP_DICODING\\kelas_mahir\\.env\\Lib\\site-packages\\sklearn\\cluster\\_kmeans.py:870: FutureWarning: The default value of `n_init` will change from 10 to 'auto' in 1.4. Set the value of `n_init` explicitly to suppress the warning\n",
                        "  warnings.warn(\n",
                        "f:\\IDCAMP_DICODING\\kelas_mahir\\.env\\Lib\\site-packages\\sklearn\\cluster\\_kmeans.py:870: FutureWarning: The default value of `n_init` will change from 10 to 'auto' in 1.4. Set the value of `n_init` explicitly to suppress the warning\n",
                        "  warnings.warn(\n",
                        "f:\\IDCAMP_DICODING\\kelas_mahir\\.env\\Lib\\site-packages\\sklearn\\cluster\\_kmeans.py:870: FutureWarning: The default value of `n_init` will change from 10 to 'auto' in 1.4. Set the value of `n_init` explicitly to suppress the warning\n",
                        "  warnings.warn(\n",
                        "f:\\IDCAMP_DICODING\\kelas_mahir\\.env\\Lib\\site-packages\\sklearn\\cluster\\_kmeans.py:870: FutureWarning: The default value of `n_init` will change from 10 to 'auto' in 1.4. Set the value of `n_init` explicitly to suppress the warning\n",
                        "  warnings.warn(\n",
                        "f:\\IDCAMP_DICODING\\kelas_mahir\\.env\\Lib\\site-packages\\sklearn\\cluster\\_kmeans.py:870: FutureWarning: The default value of `n_init` will change from 10 to 'auto' in 1.4. Set the value of `n_init` explicitly to suppress the warning\n",
                        "  warnings.warn(\n"
                    ]
                }
            ],
            "source": [
                "list_innertia   = []\n",
                "list_silhouette = []\n",
                "list_cluster    = []\n",
                "\n",
                "for k in range(2,11):\n",
                "    cluster_model = KMeans(n_clusters=k)\n",
                "    cluster_model.fit(X)\n",
                "\n",
                "    labels = cluster_model.labels_\n",
                "\n",
                "    sil_score = silhouette_score(X,labels)\n",
                "    inn_score = cluster_model.inertia_\n",
                "\n",
                "    list_cluster.append(k)\n",
                "    list_silhouette.append(sil_score)\n",
                "    list_innertia.append(inn_score)"
            ]
        },
        {
            "cell_type": "code",
            "execution_count": 42,
            "metadata": {},
            "outputs": [],
            "source": [
                "scaler = StandardScaler()\n",
                "X_scaled = scaler.fit_transform(X)"
            ]
        },
        {
            "cell_type": "code",
            "execution_count": 43,
            "metadata": {},
            "outputs": [
                {
                    "name": "stderr",
                    "output_type": "stream",
                    "text": [
                        "f:\\IDCAMP_DICODING\\kelas_mahir\\.env\\Lib\\site-packages\\sklearn\\cluster\\_kmeans.py:870: FutureWarning: The default value of `n_init` will change from 10 to 'auto' in 1.4. Set the value of `n_init` explicitly to suppress the warning\n",
                        "  warnings.warn(\n"
                    ]
                },
                {
                    "data": {
                        "text/html": [
                            "<style>#sk-container-id-3 {color: black;background-color: white;}#sk-container-id-3 pre{padding: 0;}#sk-container-id-3 div.sk-toggleable {background-color: white;}#sk-container-id-3 label.sk-toggleable__label {cursor: pointer;display: block;width: 100%;margin-bottom: 0;padding: 0.3em;box-sizing: border-box;text-align: center;}#sk-container-id-3 label.sk-toggleable__label-arrow:before {content: \"▸\";float: left;margin-right: 0.25em;color: #696969;}#sk-container-id-3 label.sk-toggleable__label-arrow:hover:before {color: black;}#sk-container-id-3 div.sk-estimator:hover label.sk-toggleable__label-arrow:before {color: black;}#sk-container-id-3 div.sk-toggleable__content {max-height: 0;max-width: 0;overflow: hidden;text-align: left;background-color: #f0f8ff;}#sk-container-id-3 div.sk-toggleable__content pre {margin: 0.2em;color: black;border-radius: 0.25em;background-color: #f0f8ff;}#sk-container-id-3 input.sk-toggleable__control:checked~div.sk-toggleable__content {max-height: 200px;max-width: 100%;overflow: auto;}#sk-container-id-3 input.sk-toggleable__control:checked~label.sk-toggleable__label-arrow:before {content: \"▾\";}#sk-container-id-3 div.sk-estimator input.sk-toggleable__control:checked~label.sk-toggleable__label {background-color: #d4ebff;}#sk-container-id-3 div.sk-label input.sk-toggleable__control:checked~label.sk-toggleable__label {background-color: #d4ebff;}#sk-container-id-3 input.sk-hidden--visually {border: 0;clip: rect(1px 1px 1px 1px);clip: rect(1px, 1px, 1px, 1px);height: 1px;margin: -1px;overflow: hidden;padding: 0;position: absolute;width: 1px;}#sk-container-id-3 div.sk-estimator {font-family: monospace;background-color: #f0f8ff;border: 1px dotted black;border-radius: 0.25em;box-sizing: border-box;margin-bottom: 0.5em;}#sk-container-id-3 div.sk-estimator:hover {background-color: #d4ebff;}#sk-container-id-3 div.sk-parallel-item::after {content: \"\";width: 100%;border-bottom: 1px solid gray;flex-grow: 1;}#sk-container-id-3 div.sk-label:hover label.sk-toggleable__label {background-color: #d4ebff;}#sk-container-id-3 div.sk-serial::before {content: \"\";position: absolute;border-left: 1px solid gray;box-sizing: border-box;top: 0;bottom: 0;left: 50%;z-index: 0;}#sk-container-id-3 div.sk-serial {display: flex;flex-direction: column;align-items: center;background-color: white;padding-right: 0.2em;padding-left: 0.2em;position: relative;}#sk-container-id-3 div.sk-item {position: relative;z-index: 1;}#sk-container-id-3 div.sk-parallel {display: flex;align-items: stretch;justify-content: center;background-color: white;position: relative;}#sk-container-id-3 div.sk-item::before, #sk-container-id-3 div.sk-parallel-item::before {content: \"\";position: absolute;border-left: 1px solid gray;box-sizing: border-box;top: 0;bottom: 0;left: 50%;z-index: -1;}#sk-container-id-3 div.sk-parallel-item {display: flex;flex-direction: column;z-index: 1;position: relative;background-color: white;}#sk-container-id-3 div.sk-parallel-item:first-child::after {align-self: flex-end;width: 50%;}#sk-container-id-3 div.sk-parallel-item:last-child::after {align-self: flex-start;width: 50%;}#sk-container-id-3 div.sk-parallel-item:only-child::after {width: 0;}#sk-container-id-3 div.sk-dashed-wrapped {border: 1px dashed gray;margin: 0 0.4em 0.5em 0.4em;box-sizing: border-box;padding-bottom: 0.4em;background-color: white;}#sk-container-id-3 div.sk-label label {font-family: monospace;font-weight: bold;display: inline-block;line-height: 1.2em;}#sk-container-id-3 div.sk-label-container {text-align: center;}#sk-container-id-3 div.sk-container {/* jupyter's `normalize.less` sets `[hidden] { display: none; }` but bootstrap.min.css set `[hidden] { display: none !important; }` so we also need the `!important` here to be able to override the default hidden behavior on the sphinx rendered scikit-learn.org. See: https://github.com/scikit-learn/scikit-learn/issues/21755 */display: inline-block !important;position: relative;}#sk-container-id-3 div.sk-text-repr-fallback {display: none;}</style><div id=\"sk-container-id-3\" class=\"sk-top-container\"><div class=\"sk-text-repr-fallback\"><pre>KMeans(n_clusters=3, random_state=42)</pre><b>In a Jupyter environment, please rerun this cell to show the HTML representation or trust the notebook. <br />On GitHub, the HTML representation is unable to render, please try loading this page with nbviewer.org.</b></div><div class=\"sk-container\" hidden><div class=\"sk-item\"><div class=\"sk-estimator sk-toggleable\"><input class=\"sk-toggleable__control sk-hidden--visually\" id=\"sk-estimator-id-3\" type=\"checkbox\" checked><label for=\"sk-estimator-id-3\" class=\"sk-toggleable__label sk-toggleable__label-arrow\">KMeans</label><div class=\"sk-toggleable__content\"><pre>KMeans(n_clusters=3, random_state=42)</pre></div></div></div></div></div>"
                        ],
                        "text/plain": [
                            "KMeans(n_clusters=3, random_state=42)"
                        ]
                    },
                    "execution_count": 43,
                    "metadata": {},
                    "output_type": "execute_result"
                }
            ],
            "source": [
                "k = 3\n",
                "final_model = KMeans(n_clusters=k,random_state=42)\n",
                "final_model.fit(X_scaled)"
            ]
        },
        {
            "cell_type": "markdown",
            "metadata": {},
            "source": [
                "### Save Model"
            ]
        },
        {
            "cell_type": "code",
            "execution_count": 44,
            "metadata": {},
            "outputs": [
                {
                    "data": {
                        "text/plain": [
                            "['kmeans_model.joblib']"
                        ]
                    },
                    "execution_count": 44,
                    "metadata": {},
                    "output_type": "execute_result"
                }
            ],
            "source": [
                "# joblib.dump(final_model, 'kmeans_model.joblib')"
            ]
        },
        {
            "cell_type": "markdown",
            "metadata": {},
            "source": [
                "## Evaluation"
            ]
        },
        {
            "cell_type": "code",
            "execution_count": 45,
            "metadata": {},
            "outputs": [
                {
                    "data": {
                        "image/png": "[encoded data removed]",
                        "text/plain": [
                            "<Figure size 1200x400 with 2 Axes>"
                        ]
                    },
                    "metadata": {},
                    "output_type": "display_data"
                }
            ],
            "source": [
                "plt.figure(figsize=(12,4))\n",
                "\n",
                "plt.subplot(121)\n",
                "plt.plot(list_cluster,list_innertia,'r-o')\n",
                "plt.xlabel('Jumlah Cluster')\n",
                "plt.ylabel('Innertia')\n",
                "plt.grid()\n",
                "\n",
                "plt.subplot(122)\n",
                "plt.plot(list_cluster,list_silhouette,'r-o')\n",
                "plt.xlabel('Jumlah Cluster')\n",
                "plt.ylabel('Silhouette')\n",
                "plt.grid()"
            ]
        },
        {
            "cell_type": "markdown",
            "metadata": {},
            "source": [
                "tampak nilai inertia dan silhoutte sudah bagus"
            ]
        },
        {
            "cell_type": "code",
            "execution_count": 46,
            "metadata": {},
            "outputs": [
                {
                    "name": "stdout",
                    "output_type": "stream",
                    "text": [
                        "Inertia: 2257.6211309701935\n",
                        "Silhouette Score: 0.35766422755972005\n"
                    ]
                }
            ],
            "source": [
                "inertia = final_model.inertia_\n",
                "print(\"Inertia:\", inertia)\n",
                "\n",
                "silhouette_avg = silhouette_score(X_scaled, final_model.labels_)\n",
                "print(\"Silhouette Score:\", silhouette_avg)"
            ]
        },
        {
            "cell_type": "markdown",
            "metadata": {},
            "source": [
                "nilai inertia dan silhoutte menunjukkan angka yang cukup baik, terutama silhoutte score yang menunjukkan angka positif. ini menunjukkan bahwa model sudah cukup bagus untuk kasus clustering"
            ]
        },
        {
            "cell_type": "markdown",
            "metadata": {},
            "source": [
                "### create new column `cluster`"
            ]
        },
        {
            "cell_type": "code",
            "execution_count": 52,
            "metadata": {},
            "outputs": [
                {
                    "data": {
                        "text/html": [
                            "<div>\n",
                            "<style scoped>\n",
                            "    .dataframe tbody tr th:only-of-type {\n",
                            "        vertical-align: middle;\n",
                            "    }\n",
                            "\n",
                            "    .dataframe tbody tr th {\n",
                            "        vertical-align: top;\n",
                            "    }\n",
                            "\n",
                            "    .dataframe thead th {\n",
                            "        text-align: right;\n",
                            "    }\n",
                            "</style>\n",
                            "<table border=\"1\" class=\"dataframe\">\n",
                            "  <thead>\n",
                            "    <tr style=\"text-align: right;\">\n",
                            "      <th></th>\n",
                            "      <th>EmployeeId</th>\n",
                            "      <th>Age</th>\n",
                            "      <th>Attrition</th>\n",
                            "      <th>Gender</th>\n",
                            "      <th>cluster</th>\n",
                            "    </tr>\n",
                            "  </thead>\n",
                            "  <tbody>\n",
                            "    <tr>\n",
                            "      <th>1</th>\n",
                            "      <td>2</td>\n",
                            "      <td>37</td>\n",
                            "      <td>1.0</td>\n",
                            "      <td>0</td>\n",
                            "      <td>1</td>\n",
                            "    </tr>\n",
                            "    <tr>\n",
                            "      <th>2</th>\n",
                            "      <td>3</td>\n",
                            "      <td>51</td>\n",
                            "      <td>1.0</td>\n",
                            "      <td>1</td>\n",
                            "      <td>1</td>\n",
                            "    </tr>\n",
                            "    <tr>\n",
                            "      <th>3</th>\n",
                            "      <td>4</td>\n",
                            "      <td>42</td>\n",
                            "      <td>0.0</td>\n",
                            "      <td>0</td>\n",
                            "      <td>0</td>\n",
                            "    </tr>\n",
                            "    <tr>\n",
                            "      <th>6</th>\n",
                            "      <td>7</td>\n",
                            "      <td>40</td>\n",
                            "      <td>0.0</td>\n",
                            "      <td>1</td>\n",
                            "      <td>2</td>\n",
                            "    </tr>\n",
                            "    <tr>\n",
                            "      <th>7</th>\n",
                            "      <td>8</td>\n",
                            "      <td>55</td>\n",
                            "      <td>1.0</td>\n",
                            "      <td>1</td>\n",
                            "      <td>1</td>\n",
                            "    </tr>\n",
                            "  </tbody>\n",
                            "</table>\n",
                            "</div>"
                        ],
                        "text/plain": [
                            "   EmployeeId  Age  Attrition  Gender  cluster\n",
                            "1           2   37        1.0       0        1\n",
                            "2           3   51        1.0       1        1\n",
                            "3           4   42        0.0       0        0\n",
                            "6           7   40        0.0       1        2\n",
                            "7           8   55        1.0       1        1"
                        ]
                    },
                    "execution_count": 52,
                    "metadata": {},
                    "output_type": "execute_result"
                }
            ],
            "source": [
                "df = pd.DataFrame(X)\n",
                "df['cluster'] = final_model.labels_\n",
                "df.head()"
            ]
        },
        {
            "cell_type": "code",
            "execution_count": 53,
            "metadata": {},
            "outputs": [
                {
                    "data": {
                        "text/plain": [
                            "cluster\n",
                            "2    0.483932\n",
                            "0    0.346881\n",
                            "1    0.169187\n",
                            "Name: proportion, dtype: float64"
                        ]
                    },
                    "execution_count": 53,
                    "metadata": {},
                    "output_type": "execute_result"
                }
            ],
            "source": [
                "df['cluster'].value_counts(normalize=True)"
            ]
        },
        {
            "cell_type": "code",
            "execution_count": 54,
            "metadata": {},
            "outputs": [
                {
                    "data": {
                        "text/plain": [
                            "Age          37.055766\n",
                            "Attrition     0.169187\n",
                            "Gender        0.586011\n",
                            "Name: mean, dtype: float64"
                        ]
                    },
                    "execution_count": 54,
                    "metadata": {},
                    "output_type": "execute_result"
                }
            ],
            "source": [
                "col_to_check = ['Age', 'Attrition', 'Gender']\n",
                "baseline = df[col_to_check].describe().T['mean']\n",
                "baseline"
            ]
        },
        {
            "cell_type": "code",
            "execution_count": 55,
            "metadata": {},
            "outputs": [
                {
                    "data": {
                        "text/html": [
                            "<div>\n",
                            "<style scoped>\n",
                            "    .dataframe tbody tr th:only-of-type {\n",
                            "        vertical-align: middle;\n",
                            "    }\n",
                            "\n",
                            "    .dataframe tbody tr th {\n",
                            "        vertical-align: top;\n",
                            "    }\n",
                            "\n",
                            "    .dataframe thead th {\n",
                            "        text-align: right;\n",
                            "    }\n",
                            "</style>\n",
                            "<table border=\"1\" class=\"dataframe\">\n",
                            "  <thead>\n",
                            "    <tr style=\"text-align: right;\">\n",
                            "      <th>cluster</th>\n",
                            "      <th>0</th>\n",
                            "      <th>1</th>\n",
                            "      <th>2</th>\n",
                            "    </tr>\n",
                            "  </thead>\n",
                            "  <tbody>\n",
                            "    <tr>\n",
                            "      <th>EmployeeId</th>\n",
                            "      <td>755.681199</td>\n",
                            "      <td>719.698324</td>\n",
                            "      <td>728.949219</td>\n",
                            "    </tr>\n",
                            "    <tr>\n",
                            "      <th>Age</th>\n",
                            "      <td>38.373297</td>\n",
                            "      <td>33.469274</td>\n",
                            "      <td>37.365234</td>\n",
                            "    </tr>\n",
                            "    <tr>\n",
                            "      <th>Attrition</th>\n",
                            "      <td>0.000000</td>\n",
                            "      <td>1.000000</td>\n",
                            "      <td>0.000000</td>\n",
                            "    </tr>\n",
                            "    <tr>\n",
                            "      <th>Gender</th>\n",
                            "      <td>0.000000</td>\n",
                            "      <td>0.603352</td>\n",
                            "      <td>1.000000</td>\n",
                            "    </tr>\n",
                            "  </tbody>\n",
                            "</table>\n",
                            "</div>"
                        ],
                        "text/plain": [
                            "cluster              0           1           2\n",
                            "EmployeeId  755.681199  719.698324  728.949219\n",
                            "Age          38.373297   33.469274   37.365234\n",
                            "Attrition     0.000000    1.000000    0.000000\n",
                            "Gender        0.000000    0.603352    1.000000"
                        ]
                    },
                    "execution_count": 55,
                    "metadata": {},
                    "output_type": "execute_result"
                }
            ],
            "source": [
                "df_cluster = df.groupby('cluster').mean().T\n",
                "df_cluster"
            ]
        },
        {
            "cell_type": "code",
            "execution_count": 56,
            "metadata": {},
            "outputs": [
                {
                    "data": {
                        "text/html": [
                            "<div>\n",
                            "<style scoped>\n",
                            "    .dataframe tbody tr th:only-of-type {\n",
                            "        vertical-align: middle;\n",
                            "    }\n",
                            "\n",
                            "    .dataframe tbody tr th {\n",
                            "        vertical-align: top;\n",
                            "    }\n",
                            "\n",
                            "    .dataframe thead th {\n",
                            "        text-align: right;\n",
                            "    }\n",
                            "</style>\n",
                            "<table border=\"1\" class=\"dataframe\">\n",
                            "  <thead>\n",
                            "    <tr style=\"text-align: right;\">\n",
                            "      <th></th>\n",
                            "      <th>mean</th>\n",
                            "      <th>0</th>\n",
                            "      <th>1</th>\n",
                            "      <th>2</th>\n",
                            "    </tr>\n",
                            "  </thead>\n",
                            "  <tbody>\n",
                            "    <tr>\n",
                            "      <th>Age</th>\n",
                            "      <td>37.055766</td>\n",
                            "      <td>1.035555</td>\n",
                            "      <td>0.903214</td>\n",
                            "      <td>1.008351</td>\n",
                            "    </tr>\n",
                            "    <tr>\n",
                            "      <th>Attrition</th>\n",
                            "      <td>0.169187</td>\n",
                            "      <td>0.000000</td>\n",
                            "      <td>5.910615</td>\n",
                            "      <td>0.000000</td>\n",
                            "    </tr>\n",
                            "    <tr>\n",
                            "      <th>Gender</th>\n",
                            "      <td>0.586011</td>\n",
                            "      <td>0.000000</td>\n",
                            "      <td>1.029591</td>\n",
                            "      <td>1.706452</td>\n",
                            "    </tr>\n",
                            "  </tbody>\n",
                            "</table>\n",
                            "</div>"
                        ],
                        "text/plain": [
                            "                mean         0         1         2\n",
                            "Age        37.055766  1.035555  0.903214  1.008351\n",
                            "Attrition   0.169187  0.000000  5.910615  0.000000\n",
                            "Gender      0.586011  0.000000  1.029591  1.706452"
                        ]
                    },
                    "execution_count": 56,
                    "metadata": {},
                    "output_type": "execute_result"
                }
            ],
            "source": [
                "df_percentage = baseline.to_frame()\n",
                "for i in range(k):\n",
                "    df_percentage[i] = df_cluster[i]/baseline\n",
                "\n",
                "df_percentage"
            ]
        },
        {
            "cell_type": "markdown",
            "metadata": {},
            "source": [
                "### Kesimpulan"
            ]
        },
        {
            "cell_type": "markdown",
            "metadata": {},
            "source": [
                "dari hasil evaluasi cluster dan modelling, dapat disimpulkan bahwa\n",
                "* terdapat 3 cluster yang sengaja dibuat yaitu untuk pengelompokan 3 karyawan berdasarkan usia, yaitu yang beresiko terhadap pengunduran diri\n",
                "* cluster 0 dan 2 merupakan cluster yang memiliki resiko pengunduran tidak terlalu significant berdasarkan persentase usia dan gendernya.\n",
                "* cluster 1 adalah yang harus diperhatikan, karena memiliki persentase pengunduran diri yang lumayan significant"
            ]
        },
        {
            "cell_type": "markdown",
            "metadata": {},
            "source": [
                "# Saran pada perusahaan"
            ]
        },
        {
            "cell_type": "markdown",
            "metadata": {},
            "source": [
                "lebih perhatikan pada karyawan yang berada di cluster 1, yang memiliki persentase pengunduran diri yang lumayan significant. perhatian mungkin bisa diperhatikan pada karyawan yang usianya termasuk dalam cluster 1. sehingga kemungkinan resiko pengunduran diri bisa berkurang"
            ]
        }
    ],
    "metadata": {
        "kernelspec": {
            "display_name": "ds",
            "language": "python",
            "name": "python3"
        },
        "language_info": {
            "codemirror_mode": {
                "name": "ipython",
                "version": 3
            },
            "file_extension": ".py",
            "mimetype": "text/x-python",
            "name": "python",
            "nbconvert_exporter": "python",
            "pygments_lexer": "ipython3",
            "version": "3.11.5"
        },
        "orig_nbformat": 4
    },
    "nbformat": 4,
    "nbformat_minor": 2
}
